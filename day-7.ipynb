{
 "cells": [
  {
   "cell_type": "code",
   "execution_count": 4,
   "id": "c5c3543b",
   "metadata": {},
   "outputs": [],
   "source": [
    "data ={\n",
    "    \" Student_Name\":[\"Kanchan\",\"Deepika\",\"Suhana\",\"Neha\"],\n",
    "    \"Roll_no.\" :[2322819, 2322010, 2322008, 2322810],\n",
    "    \"Subject1 \": [97, 89,90,95],\n",
    "    \"subject2\" :[90,80,85,95],\n",
    "    \"subject3\":[95,84,99,90]\n",
    "\n",
    "\n",
    "}"
   ]
  },
  {
   "cell_type": "code",
   "execution_count": 6,
   "id": "b144ae3c",
   "metadata": {},
   "outputs": [
    {
     "name": "stdout",
     "output_type": "stream",
     "text": [
      "   Student_Name  Roll_no.  Subject1   subject2  subject3\n",
      "0       Kanchan   2322819         97        90        95\n",
      "1       Deepika   2322010         89        80        84\n",
      "2        Suhana   2322008         90        85        99\n",
      "3          Neha   2322810         95        95        90\n"
     ]
    }
   ],
   "source": [
    "import pandas as pd\n",
    "df = pd.DataFrame(data)\n",
    "print(df)"
   ]
  },
  {
   "cell_type": "code",
   "execution_count": 7,
   "id": "77d96ed1",
   "metadata": {},
   "outputs": [],
   "source": [
    "df.to_csv('my_data.csv', index=False)"
   ]
  },
  {
   "cell_type": "code",
   "execution_count": 8,
   "id": "b6e28e9a",
   "metadata": {},
   "outputs": [],
   "source": [
    "\n",
    "df = pd.read_csv('my_data.csv')"
   ]
  },
  {
   "cell_type": "code",
   "execution_count": 9,
   "id": "66e7a118",
   "metadata": {},
   "outputs": [
    {
     "name": "stdout",
     "output_type": "stream",
     "text": [
      "   Student_Name  Roll_no.  Subject1   subject2  subject3\n",
      "0       Kanchan   2322819         97        90        95\n",
      "1       Deepika   2322010         89        80        84\n",
      "2        Suhana   2322008         90        85        99\n",
      "3          Neha   2322810         95        95        90\n"
     ]
    }
   ],
   "source": [
    "print(df)"
   ]
  },
  {
   "cell_type": "code",
   "execution_count": null,
   "id": "b65c2dd2",
   "metadata": {},
   "outputs": [],
   "source": []
  }
 ],
 "metadata": {
  "kernelspec": {
   "display_name": "base",
   "language": "python",
   "name": "python3"
  },
  "language_info": {
   "codemirror_mode": {
    "name": "ipython",
    "version": 3
   },
   "file_extension": ".py",
   "mimetype": "text/x-python",
   "name": "python",
   "nbconvert_exporter": "python",
   "pygments_lexer": "ipython3",
   "version": "3.12.4"
  }
 },
 "nbformat": 4,
 "nbformat_minor": 5
}
